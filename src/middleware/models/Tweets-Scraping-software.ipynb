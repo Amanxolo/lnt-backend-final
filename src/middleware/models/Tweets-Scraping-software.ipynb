{
 "cells": [
  {
   "cell_type": "code",
   "execution_count": 3,
   "id": "4b573b4b",
   "metadata": {
    "execution": {
     "iopub.execute_input": "2024-03-20T14:04:30.405777Z",
     "iopub.status.busy": "2024-03-20T14:04:30.404770Z",
     "iopub.status.idle": "2024-03-20T14:04:30.976441Z",
     "shell.execute_reply": "2024-03-20T14:04:30.975410Z"
    }
   },
   "outputs": [],
   "source": [
    "import asyncio\n",
    "from twscrape import API, gather\n",
    "from twscrape.logger import set_log_level"
   ]
  },
  {
   "cell_type": "code",
   "execution_count": 2,
   "id": "100c05e7",
   "metadata": {},
   "outputs": [
    {
     "name": "stdout",
     "output_type": "stream",
     "text": [
      "Collecting twscrape\n",
      "  Obtaining dependency information for twscrape from https://files.pythonhosted.org/packages/49/d6/bfda101126ba8e4bbfdfb901188145116bc12964a8dc83ef7f1bb4991208/twscrape-0.11.1-py3-none-any.whl.metadata\n",
      "  Downloading twscrape-0.11.1-py3-none-any.whl.metadata (12 kB)\n",
      "Requirement already satisfied: aiosqlite>=0.17.0 in c:\\users\\prati\\anaconda3\\lib\\site-packages (from twscrape) (0.18.0)\n",
      "Collecting fake-useragent>=1.4.0 (from twscrape)\n",
      "  Obtaining dependency information for fake-useragent>=1.4.0 from https://files.pythonhosted.org/packages/e4/99/60d8cf1b26938c2e0a57e232f7f15641dfcd6f8deda454d73e4145910ff6/fake_useragent-1.5.1-py3-none-any.whl.metadata\n",
      "  Downloading fake_useragent-1.5.1-py3-none-any.whl.metadata (15 kB)\n",
      "Collecting httpx>=0.26.0 (from twscrape)\n",
      "  Obtaining dependency information for httpx>=0.26.0 from https://files.pythonhosted.org/packages/41/7b/ddacf6dcebb42466abd03f368782142baa82e08fc0c1f8eaa05b4bae87d5/httpx-0.27.0-py3-none-any.whl.metadata\n",
      "  Downloading httpx-0.27.0-py3-none-any.whl.metadata (7.2 kB)\n",
      "Collecting loguru>=0.7.0 (from twscrape)\n",
      "  Obtaining dependency information for loguru>=0.7.0 from https://files.pythonhosted.org/packages/03/0a/4f6fed21aa246c6b49b561ca55facacc2a44b87d65b8b92362a8e99ba202/loguru-0.7.2-py3-none-any.whl.metadata\n",
      "  Downloading loguru-0.7.2-py3-none-any.whl.metadata (23 kB)\n",
      "Requirement already satisfied: anyio in c:\\users\\prati\\anaconda3\\lib\\site-packages (from httpx>=0.26.0->twscrape) (3.5.0)\n",
      "Requirement already satisfied: certifi in c:\\users\\prati\\anaconda3\\lib\\site-packages (from httpx>=0.26.0->twscrape) (2023.11.17)\n",
      "Collecting httpcore==1.* (from httpx>=0.26.0->twscrape)\n",
      "  Obtaining dependency information for httpcore==1.* from https://files.pythonhosted.org/packages/2c/93/13f25f2f78646bab97aee7680821e30bd85b2ff0fc45d5fdf5393b79716d/httpcore-1.0.4-py3-none-any.whl.metadata\n",
      "  Downloading httpcore-1.0.4-py3-none-any.whl.metadata (20 kB)\n",
      "Requirement already satisfied: idna in c:\\users\\prati\\anaconda3\\lib\\site-packages (from httpx>=0.26.0->twscrape) (3.4)\n",
      "Requirement already satisfied: sniffio in c:\\users\\prati\\anaconda3\\lib\\site-packages (from httpx>=0.26.0->twscrape) (1.2.0)\n",
      "Collecting h11<0.15,>=0.13 (from httpcore==1.*->httpx>=0.26.0->twscrape)\n",
      "  Obtaining dependency information for h11<0.15,>=0.13 from https://files.pythonhosted.org/packages/95/04/ff642e65ad6b90db43e668d70ffb6736436c7ce41fcc549f4e9472234127/h11-0.14.0-py3-none-any.whl.metadata\n",
      "  Downloading h11-0.14.0-py3-none-any.whl.metadata (8.2 kB)\n",
      "Requirement already satisfied: colorama>=0.3.4 in c:\\users\\prati\\anaconda3\\lib\\site-packages (from loguru>=0.7.0->twscrape) (0.4.6)\n",
      "Collecting win32-setctime>=1.0.0 (from loguru>=0.7.0->twscrape)\n",
      "  Obtaining dependency information for win32-setctime>=1.0.0 from https://files.pythonhosted.org/packages/0a/e6/a7d828fef907843b2a5773ebff47fb79ac0c1c88d60c0ca9530ee941e248/win32_setctime-1.1.0-py3-none-any.whl.metadata\n",
      "  Downloading win32_setctime-1.1.0-py3-none-any.whl.metadata (2.3 kB)\n",
      "Downloading twscrape-0.11.1-py3-none-any.whl (30 kB)\n",
      "Downloading fake_useragent-1.5.1-py3-none-any.whl (17 kB)\n",
      "Downloading httpx-0.27.0-py3-none-any.whl (75 kB)\n",
      "   ---------------------------------------- 0.0/75.6 kB ? eta -:--:--\n",
      "   ----- ---------------------------------- 10.2/75.6 kB ? eta -:--:--\n",
      "   --------------------- ------------------ 41.0/75.6 kB 991.0 kB/s eta 0:00:01\n",
      "   ------------------------------------- -- 71.7/75.6 kB 660.6 kB/s eta 0:00:01\n",
      "   ---------------------------------------- 75.6/75.6 kB 599.5 kB/s eta 0:00:00\n",
      "Downloading httpcore-1.0.4-py3-none-any.whl (77 kB)\n",
      "   ---------------------------------------- 0.0/77.8 kB ? eta -:--:--\n",
      "   ---------------------------------------- 77.8/77.8 kB 1.4 MB/s eta 0:00:00\n",
      "Downloading loguru-0.7.2-py3-none-any.whl (62 kB)\n",
      "   ---------------------------------------- 0.0/62.5 kB ? eta -:--:--\n",
      "   ---------------------------------------- 62.5/62.5 kB 1.7 MB/s eta 0:00:00\n",
      "Downloading win32_setctime-1.1.0-py3-none-any.whl (3.6 kB)\n",
      "Downloading h11-0.14.0-py3-none-any.whl (58 kB)\n",
      "   ---------------------------------------- 0.0/58.3 kB ? eta -:--:--\n",
      "   ---------------------------------------- 0.0/58.3 kB ? eta -:--:--\n",
      "   ------- -------------------------------- 10.2/58.3 kB ? eta -:--:--\n",
      "   --------------------- ------------------ 30.7/58.3 kB 330.3 kB/s eta 0:00:01\n",
      "   ---------------------------- ----------- 41.0/58.3 kB 281.8 kB/s eta 0:00:01\n",
      "   ---------------------------------------- 58.3/58.3 kB 279.2 kB/s eta 0:00:00\n",
      "Installing collected packages: fake-useragent, win32-setctime, h11, loguru, httpcore, httpx, twscrape\n",
      "Successfully installed fake-useragent-1.5.1 h11-0.14.0 httpcore-1.0.4 httpx-0.27.0 loguru-0.7.2 twscrape-0.11.1 win32-setctime-1.1.0\n",
      "Note: you may need to restart the kernel to use updated packages.\n"
     ]
    }
   ],
   "source": [
    "pip install twscrape"
   ]
  },
  {
   "cell_type": "code",
   "execution_count": 4,
   "id": "5bdac690",
   "metadata": {
    "execution": {
     "iopub.execute_input": "2024-03-20T14:04:30.981421Z",
     "iopub.status.busy": "2024-03-20T14:04:30.980422Z",
     "iopub.status.idle": "2024-03-20T14:04:31.005618Z",
     "shell.execute_reply": "2024-03-20T14:04:31.004604Z"
    }
   },
   "outputs": [
    {
     "name": "stderr",
     "output_type": "stream",
     "text": [
      "\u001b[32m2024-03-21 21:07:18.807\u001b[0m | \u001b[33m\u001b[1mWARNING \u001b[0m | \u001b[36mtwscrape.accounts_pool\u001b[0m:\u001b[36madd_account\u001b[0m:\u001b[36m76\u001b[0m - \u001b[33m\u001b[1mAccount xolo_2003 already exists\u001b[0m\n"
     ]
    }
   ],
   "source": [
    "api = API()\n",
    "await api.pool.add_account(\"xolo_2003\", \"Narusasu@2003\", 'aman.tyagiofficial2003@gmail.com', \"Narusasu@2003\")"
   ]
  },
  {
   "cell_type": "code",
   "execution_count": 5,
   "id": "71b806ba",
   "metadata": {
    "execution": {
     "iopub.execute_input": "2024-03-20T14:04:31.010621Z",
     "iopub.status.busy": "2024-03-20T14:04:31.009630Z",
     "iopub.status.idle": "2024-03-20T14:04:31.028978Z",
     "shell.execute_reply": "2024-03-20T14:04:31.027968Z"
    }
   },
   "outputs": [
    {
     "data": {
      "text/plain": [
       "{'total': 0, 'success': 0, 'failed': 0}"
      ]
     },
     "execution_count": 5,
     "metadata": {},
     "output_type": "execute_result"
    }
   ],
   "source": [
    "await api.pool.login_all()"
   ]
  },
  {
   "cell_type": "code",
   "execution_count": 6,
   "id": "c3d4bcb0",
   "metadata": {
    "execution": {
     "iopub.execute_input": "2024-03-20T14:04:31.035130Z",
     "iopub.status.busy": "2024-03-20T14:04:31.034132Z",
     "iopub.status.idle": "2024-03-20T14:04:31.040714Z",
     "shell.execute_reply": "2024-03-20T14:04:31.039707Z"
    }
   },
   "outputs": [],
   "source": [
    "data = gather(api.search(\"larsentoubro\", limit=20))  # list[Tweet]"
   ]
  },
  {
   "cell_type": "code",
   "execution_count": 7,
   "id": "8e18c067",
   "metadata": {
    "execution": {
     "iopub.execute_input": "2024-03-20T14:04:31.043720Z",
     "iopub.status.busy": "2024-03-20T14:04:31.043720Z",
     "iopub.status.idle": "2024-03-20T14:04:31.052836Z",
     "shell.execute_reply": "2024-03-20T14:04:31.051829Z"
    }
   },
   "outputs": [
    {
     "name": "stdout",
     "output_type": "stream",
     "text": [
      "<coroutine object gather at 0x00000270226C9B60>\n"
     ]
    }
   ],
   "source": [
    "print(data)\n",
    "tweet_lst=[]"
   ]
  },
  {
   "cell_type": "code",
   "execution_count": 8,
   "id": "20018c8a",
   "metadata": {
    "execution": {
     "iopub.execute_input": "2024-03-20T14:04:31.056856Z",
     "iopub.status.busy": "2024-03-20T14:04:31.056856Z",
     "iopub.status.idle": "2024-03-20T14:04:33.961343Z",
     "shell.execute_reply": "2024-03-20T14:04:33.961343Z"
    }
   },
   "outputs": [
    {
     "name": "stdout",
     "output_type": "stream",
     "text": [
      "[1770836261936198143, 'mvartalive', 'एल अँड टी फायनान्स होल्डींग्ज लिमिटेड (एलटीएफएच) कडून प्रतिवर्षी ५.९९ टक्के दराने स्पर्धात्मक व्याजदरावर सुपर बाईक कर्ज योजनेचा शुभारंभ\\n\\n#maharashtravarta #maharashtrawarta @larsentoubro @LnTFinance #MaharashtraNews #LTFH #larsenandtoubro \\nhttps://t.co/3S7AO1VBDy']\n",
      "[1770815243419090993, 'TariqBh43321224', '@EconomicTimes @DeloitteIndia @CHANEL @larsentoubro @TitanCompanyLtd @Pharma_Mankind @DrSJaishankar @Rameshjuneja https://t.co/9gu6cFWCoC']\n",
      "[1770813538388373587, 'KRISHAN95411687', '@EconomicTimes @DeloitteIndia @CHANEL @larsentoubro @TitanCompanyLtd @Pharma_Mankind @DrSJaishankar @Rameshjuneja Super']\n",
      "[1770807230180343866, 'RealtyNXT', '#NewsUpdate | Engineering &amp; construction major @larsentoubro bought 1.20 crore units of #NationalHighwaysInfraTrust for Rs 149.65 crore.\\n\\nhttps://t.co/HPtDR0q9lU\\n\\n#RealtyNXT #LarsenAndToubroLtd #InfrastructureInvestmentTrust #NationalStockExchange']\n",
      "[1770798615931290045, 'ETNOWlive', 'Just In | L&amp;T board meet on March 27 to consider fund raising, debt sale: Agencies\\n\\n@larsentoubro https://t.co/Frpt4afWUq']\n",
      "[1770742906199908511, 'AjayshreeSamby3', 'S-81 Issac Pearl. The Spanish offering for P-75I by @NavantiaOficial along with @larsentoubro . First ever inside access to this 3000 ton giant Submarine while in active duty.\\nhttps://t.co/HVgqPOFo6f']\n",
      "[1770739734463086714, 'Pradyumnapintoo', '@epfobandra@larsentoubro@pmo\\n\\nThis is to bring to your notice that one of my Cousin is trying his level best to update his kyc and signature on epfo portal but due to negligence at Lnt official its not being resolved. We are going through though time meanwhile they are least..']\n",
      "[1770736318525345854, 'ExtraaGyan', 'NCC LIMITED INFLATION ADJUSTED CHART:\\n-700+ MINIMUM \\n-40% PAT AND REVENUE GROWTH IN LAST 2 YEARS\\n-57000 CRORE + ORDER BOOK\\n-LOWEST DEBT TO EQUTY IN INFRA COMPANIES\\n-CAPEX BOOM\\n-HIGH FII STAKE\\n#ncc #ncclimited #niftyinfra #LarsenToubro #niftysmallcap #Multibaggers #chart https://t.co/bEVFpckFB7']\n",
      "[1770734173554106583, 'ET_Infra', 'Larsen &amp; Toubro buys 1.20 cr units of National Highways Infra Trust https://t.co/a5xH2bOvaP via @ET_Infra @larsentoubro #nahi #InvIt #highway #construction']\n",
      "[1770714460006895621, 'BiginfoI', '#Contract Update: Larsen &amp; Toubro bags order for Lift Irrigation project in #Odisha \\n\\nProject Cost\\xa0- 587 Crore\\n\\nCompletion Period\\xa0- 36 Months\\n\\n@OdishaWater \\n@larsentoubro \\n@BiginfoI \\n@investindia \\n\\n#LatestNews #Odisha #irrigation #thursdayvibes #Election2024 #Holi2024 #Updates https://t.co/NQcH0RJ4UN']\n",
      "[1770689047855280146, 'TheWealthelite', 'Top holdings of #Quant Flexi Cap Fund  \\n\\n#RelianceIndustries \\n#JioFinance \\n#Swanenergy \\n#HUDCO \\n#AdaniPower \\n#Larsentoubro \\n#Biocon \\n#britannia \\n#Hindalco \\n#LIC \\n#SAIL']\n",
      "[1770669953881870570, 'TheWealthelite', '#HDFCBank #LarsenToubro #ICICIBank #TataSteel #AxisBank are top contributors to the #Nifty50.']\n",
      "[1770669168125206893, 'MicrosoftIndia', \"Advancing towards an AI-first approach, @larsentoubro's cognitive services leveraged #NLP &amp; #GenAI on #AzureOpenAI to extract key data from documents, identified crucial contract clauses, technical details in emails and reports, and insights from across projects #AIFirstMovers https://t.co/wwobMNQDr4\"]\n",
      "[1770665605223321852, 'getblinkx', 'Technical Short Term\\n\\nBUY – Larsen and Toubro Ltd.\\n\\n#LandT #larsentoubro #larsenandtubro #larsenturboltd #nifty #banknifty #viralpost #nse #bse #nifty50 #trading #intradaytrading #stockmarketindia #markets #stockmarket #investor #investments #finance #research #MadeForTheMarket #blinkX #getblinkX']\n",
      "[1770659241042346282, 'JayantKrishnaIN', \"Loved experiencing India's 1st undersea tunnel's 2-km stretch under Arabian Sea as 1st phase of coastal road between Worli &amp; Marine Drive, an 10.5-km-long marvel by @mybmc &amp; @larsentoubro that will save $100 m/year in carbon emissions @mybmcCoastalRd @CMOMaharashtra @narendramodi https://t.co/2Qo5YFFkwX\"]\n"
     ]
    }
   ],
   "source": [
    "async for tweet in api.search(\"larsentoubro\",limit=5):\n",
    "        tweet_lst.append([tweet.id, tweet.user.username, tweet.rawContent]) \n",
    "        print([tweet.id, tweet.user.username, tweet.rawContent]) "
   ]
  },
  {
   "cell_type": "code",
   "execution_count": null,
   "id": "5bbcbb60",
   "metadata": {
    "execution": {
     "iopub.execute_input": "2024-03-20T14:04:33.967353Z",
     "iopub.status.busy": "2024-03-20T14:04:33.967353Z",
     "iopub.status.idle": "2024-03-20T14:04:33.975091Z",
     "shell.execute_reply": "2024-03-20T14:04:33.973518Z"
    }
   },
   "outputs": [],
   "source": [
    "import pickle\n",
    "pickle.dump(tweet_lst,open('./l&t_tweets_scraped','wb'))"
   ]
  },
  {
   "cell_type": "code",
   "execution_count": null,
   "id": "72101c14",
   "metadata": {},
   "outputs": [],
   "source": []
  },
  {
   "cell_type": "code",
   "execution_count": null,
   "id": "0ca374b1",
   "metadata": {},
   "outputs": [],
   "source": []
  },
  {
   "cell_type": "code",
   "execution_count": null,
   "id": "3f04c497",
   "metadata": {},
   "outputs": [],
   "source": [
    "\n"
   ]
  }
 ],
 "metadata": {
  "kernelspec": {
   "display_name": "base",
   "language": "python",
   "name": "python3"
  },
  "language_info": {
   "codemirror_mode": {
    "name": "ipython",
    "version": 3
   },
   "file_extension": ".py",
   "mimetype": "text/x-python",
   "name": "python",
   "nbconvert_exporter": "python",
   "pygments_lexer": "ipython3",
   "version": "3.11.5"
  }
 },
 "nbformat": 4,
 "nbformat_minor": 5
}
