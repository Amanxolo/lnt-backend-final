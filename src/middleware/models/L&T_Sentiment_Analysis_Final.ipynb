{
 "cells": [
  {
   "cell_type": "code",
   "execution_count": 2,
   "id": "dae33e49",
   "metadata": {},
   "outputs": [
    {
     "name": "stdout",
     "output_type": "stream",
     "text": [
      "['@user', 'L&T', 'is', 'such', 'a', 'cool', 'company', 'http']\n",
      "@user L&T is such a cool company http\n",
      "Negative 0.0015705195\n",
      "Neutral 0.018332087\n",
      "Positive 0.9800975\n"
     ]
    }
   ],
   "source": [
    "from transformers import AutoTokenizer,AutoModelForSequenceClassification\n",
    "from scipy.special import softmax\n",
    "\n",
    "tweet = \"@MehranShakarami L&T is such a cool company https://mehranshakarami.com\"\n",
    "#preprocess tweet\n",
    "tweet_words = []\n",
    "\n",
    "for word in tweet.split(' '):\n",
    "    if word.startswith('@') and len(word) > 1:\n",
    "        word = '@user'\n",
    "    elif word.startswith('http'):\n",
    "        word = \"http\"\n",
    "    tweet_words.append(word)\n",
    "\n",
    "print(tweet_words)\n",
    "\n",
    "tweet_proc = \" \".join(tweet_words)\n",
    "print(tweet_proc)\n",
    "\n",
    "#load model and tokenizer\n",
    "roberta = \"cardiffnlp/twitter-roberta-base-sentiment\"\n",
    "model = AutoModelForSequenceClassification.from_pretrained(roberta)\n",
    "tokenizer = AutoTokenizer.from_pretrained(roberta)\n",
    "labels = ['Negative', 'Neutral', 'Positive']\n",
    "\n",
    "# sentiment analysis\n",
    "encoded_tweet = tokenizer(tweet_proc, return_tensors='pt')\n",
    "# output = model(encoded_tweet['input_ids'],encoded_tweet['attention_mask'])\n",
    "# print(output)\n",
    "\n",
    "output = model(**encoded_tweet)\n",
    "\n",
    "scores = output[0][0].detach().numpy()\n",
    "scores = softmax(scores)\n",
    "\n",
    "for i in range(len(scores)):\n",
    "    l = labels[i]\n",
    "    s = scores[i]\n",
    "    print(l,s)\n"
   ]
  },
  {
   "cell_type": "code",
   "execution_count": 3,
   "id": "a58c5bef",
   "metadata": {},
   "outputs": [],
   "source": [
    "import pickle"
   ]
  },
  {
   "cell_type": "code",
   "execution_count": 4,
   "id": "1047f707",
   "metadata": {},
   "outputs": [
    {
     "name": "stdout",
     "output_type": "stream",
     "text": [
      "15\n"
     ]
    }
   ],
   "source": [
    "tweets_loaded = pickle.load(open('./l&t_tweets_scraped','rb'))\n",
    "print((len(tweets_loaded)))"
   ]
  },
  {
   "cell_type": "code",
   "execution_count": 5,
   "metadata": {},
   "outputs": [
    {
     "name": "stdout",
     "output_type": "stream",
     "text": [
      "Negative 0.14678837\n",
      "Neutral 0.8170664\n",
      "Positive 0.03614531\n",
      "Negative 0.061085295\n",
      "Neutral 0.886822\n",
      "Positive 0.05209263\n",
      "Negative 0.04917301\n",
      "Neutral 0.88923764\n",
      "Positive 0.0615893\n",
      "Negative 0.06952436\n",
      "Neutral 0.8868779\n",
      "Positive 0.043597735\n",
      "Negative 0.03185855\n",
      "Neutral 0.932987\n",
      "Positive 0.035154495\n",
      "Negative 0.02421032\n",
      "Neutral 0.8286833\n",
      "Positive 0.14710632\n",
      "Negative 0.6328188\n",
      "Neutral 0.34304842\n",
      "Positive 0.02413271\n",
      "Negative 0.046127915\n",
      "Neutral 0.868747\n",
      "Positive 0.0851251\n",
      "Negative 0.02733651\n",
      "Neutral 0.90723354\n",
      "Positive 0.06542995\n",
      "Negative 0.090137325\n",
      "Neutral 0.85841846\n",
      "Positive 0.05144414\n",
      "Negative 0.031699955\n",
      "Neutral 0.90768737\n",
      "Positive 0.06061267\n",
      "Negative 0.006784416\n",
      "Neutral 0.5085928\n",
      "Positive 0.4846228\n",
      "Negative 0.009202397\n",
      "Neutral 0.56810695\n",
      "Positive 0.42269063\n",
      "Negative 0.034306165\n",
      "Neutral 0.8628513\n",
      "Positive 0.10284246\n",
      "Negative 0.003178306\n",
      "Neutral 0.0587455\n",
      "Positive 0.93807614\n",
      "['Neutral', 'Neutral', 'Neutral', 'Neutral', 'Neutral', 'Neutral', 'Negative', 'Neutral', 'Neutral', 'Neutral', 'Neutral', 'Neutral', 'Neutral', 'Neutral', 'Positive'] [0.8170664, 0.886822, 0.88923764, 0.8868779, 0.932987, 0.8286833, 0.6328188, 0.868747, 0.90723354, 0.85841846, 0.90768737, 0.5085928, 0.56810695, 0.8628513, 0.93807614]\n"
     ]
    }
   ],
   "source": [
    "from transformers import AutoTokenizer,AutoModelForSequenceClassification\n",
    "from scipy.special import softmax\n",
    "#loading model and tokenizer\n",
    "roberta = \"cardiffnlp/twitter-roberta-base-sentiment\"\n",
    "model = AutoModelForSequenceClassification.from_pretrained(roberta)\n",
    "tokenizer = AutoTokenizer.from_pretrained(roberta)\n",
    "labels = ['Negative', 'Neutral', 'Positive']\n",
    "\n",
    "prediction_labels_lst=[]\n",
    "prediction_scores_lst=[]\n",
    "\n",
    "for tweet in tweets_loaded:\n",
    "    \n",
    "\n",
    "    # sentiment analysis\n",
    "    encoded_tweet = tokenizer(tweet[2], return_tensors='pt')\n",
    "    # output = model(encoded_tweet['input_ids'],encoded_tweet['attention_mask'])\n",
    "    # print(output)\n",
    "\n",
    "    output = model(**encoded_tweet)\n",
    "\n",
    "    scores = output[0][0].detach().numpy()\n",
    "    scores = softmax(scores)\n",
    "\n",
    "\n",
    "    for i in range(len(scores)):\n",
    "        l = labels[i]\n",
    "        s = scores[i]\n",
    "        print(l,s)\n",
    "    if scores[0]>scores[1] and scores[0]>scores[2]:\n",
    "        prediction_labels_lst.append(labels[0])\n",
    "        prediction_scores_lst.append(scores[0])\n",
    "    elif scores[1]>scores[0] and scores[1]>scores[2]:\n",
    "        prediction_labels_lst.append(labels[1])\n",
    "        prediction_scores_lst.append(scores[1])\n",
    "    else:\n",
    "        prediction_labels_lst.append(labels[2])\n",
    "        prediction_scores_lst.append(scores[2])\n",
    "\n",
    "\n",
    "print(prediction_labels_lst,prediction_scores_lst)\n",
    "        \n",
    "\n"
   ]
  },
  {
   "cell_type": "code",
   "execution_count": 7,
   "id": "a6804be0",
   "metadata": {},
   "outputs": [
    {
     "name": "stdout",
     "output_type": "stream",
     "text": [
      "{'prediction_labels': ['Neutral', 'Neutral', 'Neutral', 'Neutral', 'Neutral', 'Neutral', 'Negative', 'Neutral', 'Neutral', 'Neutral', 'Neutral', 'Neutral', 'Neutral', 'Neutral', 'Positive'], 'prediction_scores': [0.8170664, 0.886822, 0.88923764, 0.8868779, 0.932987, 0.8286833, 0.6328188, 0.868747, 0.90723354, 0.85841846, 0.90768737, 0.5085928, 0.56810695, 0.8628513, 0.93807614], 'tweet_id': [1770836261936198143, 1770815243419090993, 1770813538388373587, 1770807230180343866, 1770798615931290045, 1770742906199908511, 1770739734463086714, 1770736318525345854, 1770734173554106583, 1770714460006895621, 1770689047855280146, 1770669953881870570, 1770669168125206893, 1770665605223321852, 1770659241042346282]}\n"
     ]
    }
   ],
   "source": [
    "tweet_ids=[]\n",
    "tweet_content=[]\n",
    "for tweet_info in tweets_loaded:\n",
    "    tweet_ids.append(tweet_info[0]) # This is the username\n",
    "for tweet_info in tweets_loaded:\n",
    "    tweet_content.append(tweet_info[2])\n",
    "    \n",
    "\n",
    "data_to_dump = {\"prediction_labels\":prediction_labels_lst, \"prediction_scores\":prediction_scores_lst, \"tweet_id\":tweet_ids,}  \n",
    "print(data_to_dump)\n",
    "import json\n",
    "# Dump the data using pickle\n",
    "with open('data.json', 'w') as f:\n",
    "    json.dump(str(data_to_dump), f)\n"
   ]
  },
  {
   "cell_type": "code",
   "execution_count": null,
   "id": "5fd16b51",
   "metadata": {},
   "outputs": [],
   "source": []
  }
 ],
 "metadata": {
  "kernelspec": {
   "display_name": "base",
   "language": "python",
   "name": "python3"
  },
  "language_info": {
   "codemirror_mode": {
    "name": "ipython",
    "version": 3
   },
   "file_extension": ".py",
   "mimetype": "text/x-python",
   "name": "python",
   "nbconvert_exporter": "python",
   "pygments_lexer": "ipython3",
   "version": "3.11.5"
  }
 },
 "nbformat": 4,
 "nbformat_minor": 5
}
