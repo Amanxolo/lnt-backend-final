{
 "cells": [
  {
   "cell_type": "code",
   "execution_count": 1,
   "id": "4b573b4b",
   "metadata": {
    "execution": {
     "iopub.execute_input": "2024-03-21T21:34:27.006874Z",
     "iopub.status.busy": "2024-03-21T21:34:27.006874Z",
     "iopub.status.idle": "2024-03-21T21:34:27.293323Z",
     "shell.execute_reply": "2024-03-21T21:34:27.293323Z"
    }
   },
   "outputs": [],
   "source": [
    "import asyncio\n",
    "from twscrape import API, gather\n",
    "from twscrape.logger import set_log_level"
   ]
  },
  {
   "cell_type": "code",
   "execution_count": 2,
   "id": "100c05e7",
   "metadata": {
    "execution": {
     "iopub.execute_input": "2024-03-21T21:34:27.297333Z",
     "iopub.status.busy": "2024-03-21T21:34:27.296335Z",
     "iopub.status.idle": "2024-03-21T21:34:30.956581Z",
     "shell.execute_reply": "2024-03-21T21:34:30.956581Z"
    }
   },
   "outputs": [
    {
     "name": "stdout",
     "output_type": "stream",
     "text": [
      "Requirement already satisfied: twscrape in c:\\users\\prati\\appdata\\local\\packages\\pythonsoftwarefoundation.python.3.11_qbz5n2kfra8p0\\localcache\\local-packages\\python311\\site-packages (0.11.1)\n",
      "Requirement already satisfied: aiosqlite>=0.17.0 in c:\\users\\prati\\appdata\\local\\packages\\pythonsoftwarefoundation.python.3.11_qbz5n2kfra8p0\\localcache\\local-packages\\python311\\site-packages (from twscrape) (0.20.0)\n",
      "Requirement already satisfied: fake-useragent>=1.4.0 in c:\\users\\prati\\appdata\\local\\packages\\pythonsoftwarefoundation.python.3.11_qbz5n2kfra8p0\\localcache\\local-packages\\python311\\site-packages (from twscrape) (1.5.1)\n",
      "Requirement already satisfied: httpx>=0.26.0 in c:\\users\\prati\\appdata\\local\\packages\\pythonsoftwarefoundation.python.3.11_qbz5n2kfra8p0\\localcache\\local-packages\\python311\\site-packages (from twscrape) (0.27.0)\n",
      "Requirement already satisfied: loguru>=0.7.0 in c:\\users\\prati\\appdata\\local\\packages\\pythonsoftwarefoundation.python.3.11_qbz5n2kfra8p0\\localcache\\local-packages\\python311\\site-packages (from twscrape) (0.7.2)\n",
      "Requirement already satisfied: typing_extensions>=4.0 in c:\\users\\prati\\appdata\\local\\packages\\pythonsoftwarefoundation.python.3.11_qbz5n2kfra8p0\\localcache\\local-packages\\python311\\site-packages (from aiosqlite>=0.17.0->twscrape) (4.9.0)\n",
      "Requirement already satisfied: anyio in c:\\users\\prati\\appdata\\local\\packages\\pythonsoftwarefoundation.python.3.11_qbz5n2kfra8p0\\localcache\\local-packages\\python311\\site-packages (from httpx>=0.26.0->twscrape) (3.7.1)\n",
      "Requirement already satisfied: certifi in c:\\users\\prati\\appdata\\local\\packages\\pythonsoftwarefoundation.python.3.11_qbz5n2kfra8p0\\localcache\\local-packages\\python311\\site-packages (from httpx>=0.26.0->twscrape) (2023.7.22)\n",
      "Requirement already satisfied: httpcore==1.* in c:\\users\\prati\\appdata\\local\\packages\\pythonsoftwarefoundation.python.3.11_qbz5n2kfra8p0\\localcache\\local-packages\\python311\\site-packages (from httpx>=0.26.0->twscrape) (1.0.2)\n",
      "Requirement already satisfied: idna in c:\\users\\prati\\appdata\\local\\packages\\pythonsoftwarefoundation.python.3.11_qbz5n2kfra8p0\\localcache\\local-packages\\python311\\site-packages (from httpx>=0.26.0->twscrape) (3.4)\n",
      "Requirement already satisfied: sniffio in c:\\users\\prati\\appdata\\local\\packages\\pythonsoftwarefoundation.python.3.11_qbz5n2kfra8p0\\localcache\\local-packages\\python311\\site-packages (from httpx>=0.26.0->twscrape) (1.3.0)\n",
      "Requirement already satisfied: h11<0.15,>=0.13 in c:\\users\\prati\\appdata\\local\\packages\\pythonsoftwarefoundation.python.3.11_qbz5n2kfra8p0\\localcache\\local-packages\\python311\\site-packages (from httpcore==1.*->httpx>=0.26.0->twscrape) (0.14.0)\n",
      "Requirement already satisfied: colorama>=0.3.4 in c:\\users\\prati\\appdata\\local\\packages\\pythonsoftwarefoundation.python.3.11_qbz5n2kfra8p0\\localcache\\local-packages\\python311\\site-packages (from loguru>=0.7.0->twscrape) (0.4.6)\n",
      "Requirement already satisfied: win32-setctime>=1.0.0 in c:\\users\\prati\\appdata\\local\\packages\\pythonsoftwarefoundation.python.3.11_qbz5n2kfra8p0\\localcache\\local-packages\\python311\\site-packages (from loguru>=0.7.0->twscrape) (1.1.0)\n",
      "Note: you may need to restart the kernel to use updated packages.\n"
     ]
    },
    {
     "name": "stderr",
     "output_type": "stream",
     "text": [
      "\n",
      "[notice] A new release of pip is available: 23.3.2 -> 24.0\n",
      "[notice] To update, run: C:\\Users\\prati\\AppData\\Local\\Microsoft\\WindowsApps\\PythonSoftwareFoundation.Python.3.11_qbz5n2kfra8p0\\python.exe -m pip install --upgrade pip\n"
     ]
    }
   ],
   "source": [
    "pip install twscrape"
   ]
  },
  {
   "cell_type": "code",
   "execution_count": 3,
   "id": "5bdac690",
   "metadata": {
    "execution": {
     "iopub.execute_input": "2024-03-21T21:34:30.961590Z",
     "iopub.status.busy": "2024-03-21T21:34:30.960591Z",
     "iopub.status.idle": "2024-03-21T21:34:30.973664Z",
     "shell.execute_reply": "2024-03-21T21:34:30.973664Z"
    }
   },
   "outputs": [
    {
     "name": "stderr",
     "output_type": "stream",
     "text": [
      "\u001b[32m2024-03-22 03:04:30.971\u001b[0m | \u001b[33m\u001b[1mWARNING \u001b[0m | \u001b[36mtwscrape.accounts_pool\u001b[0m:\u001b[36madd_account\u001b[0m:\u001b[36m76\u001b[0m - \u001b[33m\u001b[1mAccount xolo_2003 already exists\u001b[0m\n"
     ]
    }
   ],
   "source": [
    "api = API()\n",
    "await api.pool.add_account(\"xolo_2003\", \"Narusasu@2003\", 'aman.tyagiofficial2003@gmail.com', \"Narusasu@2003\")"
   ]
  },
  {
   "cell_type": "code",
   "execution_count": 4,
   "id": "71b806ba",
   "metadata": {
    "execution": {
     "iopub.execute_input": "2024-03-21T21:34:30.977675Z",
     "iopub.status.busy": "2024-03-21T21:34:30.976673Z",
     "iopub.status.idle": "2024-03-21T21:34:30.987322Z",
     "shell.execute_reply": "2024-03-21T21:34:30.987322Z"
    }
   },
   "outputs": [
    {
     "data": {
      "text/plain": [
       "{'total': 0, 'success': 0, 'failed': 0}"
      ]
     },
     "execution_count": 4,
     "metadata": {},
     "output_type": "execute_result"
    }
   ],
   "source": [
    "await api.pool.login_all()"
   ]
  },
  {
   "cell_type": "code",
   "execution_count": 5,
   "id": "c3d4bcb0",
   "metadata": {
    "execution": {
     "iopub.execute_input": "2024-03-21T21:34:30.991331Z",
     "iopub.status.busy": "2024-03-21T21:34:30.990334Z",
     "iopub.status.idle": "2024-03-21T21:34:30.995734Z",
     "shell.execute_reply": "2024-03-21T21:34:30.994724Z"
    }
   },
   "outputs": [],
   "source": [
    "data = gather(api.search(\"larsentoubro\", limit=20))  # list[Tweet]"
   ]
  },
  {
   "cell_type": "code",
   "execution_count": 6,
   "id": "8e18c067",
   "metadata": {
    "execution": {
     "iopub.execute_input": "2024-03-21T21:34:30.998734Z",
     "iopub.status.busy": "2024-03-21T21:34:30.997732Z",
     "iopub.status.idle": "2024-03-21T21:34:31.002505Z",
     "shell.execute_reply": "2024-03-21T21:34:31.002505Z"
    }
   },
   "outputs": [
    {
     "name": "stdout",
     "output_type": "stream",
     "text": [
      "<coroutine object gather at 0x00000203431CB060>\n"
     ]
    }
   ],
   "source": [
    "print(data)\n",
    "tweet_lst=[]"
   ]
  },
  {
   "cell_type": "code",
   "execution_count": 7,
   "id": "20018c8a",
   "metadata": {
    "execution": {
     "iopub.execute_input": "2024-03-21T21:34:31.005516Z",
     "iopub.status.busy": "2024-03-21T21:34:31.005516Z",
     "iopub.status.idle": "2024-03-21T21:34:32.818096Z",
     "shell.execute_reply": "2024-03-21T21:34:32.817086Z"
    }
   },
   "outputs": [
    {
     "name": "stdout",
     "output_type": "stream",
     "text": [
      "[1770871812576227584, '___Faz___', '@EconomicTimes @DeloitteIndia @CHANEL @larsentoubro @TitanCompanyLtd @Pharma_Mankind @DrSJaishankar @Rameshjuneja Wow , I see Bonds.Nothing Else....']\n",
      "[1770868576313913542, 'Deepakkaushikd', \"@larsentoubro @LnTFinance Please help me with the documents of my Activa which i purchased through eauction from you. It's been 3 years still not able to get the proper papers. @FinMinIndia @nitin_gadkari @OfficeOfNG\"]\n",
      "[1770867566967214306, 'Aditya_G_Social', '@AjayshreeSamby3 @NavantiaOficial @larsentoubro No subtics']\n",
      "[1770863062729347101, 'i_kumbhar76818', '@EconomicTimes @DeloitteIndia @CHANEL @larsentoubro @TitanCompanyLtd @Pharma_Mankind @DrSJaishankar @Rameshjuneja Congratulations🎉🥳👏']\n",
      "[1770836261936198143, 'mvartalive', 'एल अँड टी फायनान्स होल्डींग्ज लिमिटेड (एलटीएफएच) कडून प्रतिवर्षी ५.९९ टक्के दराने स्पर्धात्मक व्याजदरावर सुपर बाईक कर्ज योजनेचा शुभारंभ\\n\\n#maharashtravarta #maharashtrawarta @larsentoubro @LnTFinance #MaharashtraNews #LTFH #larsenandtoubro \\nhttps://t.co/3S7AO1VBDy']\n",
      "[1770815243419090993, 'TariqBh43321224', '@EconomicTimes @DeloitteIndia @CHANEL @larsentoubro @TitanCompanyLtd @Pharma_Mankind @DrSJaishankar @Rameshjuneja https://t.co/9gu6cFWCoC']\n",
      "[1770813538388373587, 'KRISHAN95411687', '@EconomicTimes @DeloitteIndia @CHANEL @larsentoubro @TitanCompanyLtd @Pharma_Mankind @DrSJaishankar @Rameshjuneja Super']\n",
      "[1770807230180343866, 'RealtyNXT', '#NewsUpdate | Engineering &amp; construction major @larsentoubro bought 1.20 crore units of #NationalHighwaysInfraTrust for Rs 149.65 crore.\\n\\nhttps://t.co/HPtDR0q9lU\\n\\n#RealtyNXT #LarsenAndToubroLtd #InfrastructureInvestmentTrust #NationalStockExchange']\n",
      "[1770798615931290045, 'ETNOWlive', 'Just In | L&amp;T board meet on March 27 to consider fund raising, debt sale: Agencies\\n\\n@larsentoubro https://t.co/Frpt4afWUq']\n",
      "[1770742906199908511, 'AjayshreeSamby3', 'S-81 Issac Pearl. The Spanish offering for P-75I by @NavantiaOficial along with @larsentoubro . First ever inside access to this 3000 ton giant Submarine while in active duty.\\nhttps://t.co/HVgqPOFo6f']\n",
      "[1770739734463086714, 'Pradyumnapintoo', '@epfobandra@larsentoubro@pmo\\n\\nThis is to bring to your notice that one of my Cousin is trying his level best to update his kyc and signature on epfo portal but due to negligence at Lnt official its not being resolved. We are going through though time meanwhile they are least..']\n",
      "[1770736318525345854, 'ExtraaGyan', 'NCC LIMITED INFLATION ADJUSTED CHART:\\n-700+ MINIMUM \\n-40% PAT AND REVENUE GROWTH IN LAST 2 YEARS\\n-57000 CRORE + ORDER BOOK\\n-LOWEST DEBT TO EQUTY IN INFRA COMPANIES\\n-CAPEX BOOM\\n-HIGH FII STAKE\\n#ncc #ncclimited #niftyinfra #LarsenToubro #niftysmallcap #Multibaggers #chart https://t.co/bEVFpckFB7']\n",
      "[1770734173554106583, 'ET_Infra', 'Larsen &amp; Toubro buys 1.20 cr units of National Highways Infra Trust https://t.co/a5xH2bOvaP via @ET_Infra @larsentoubro #nahi #InvIt #highway #construction']\n",
      "[1770714460006895621, 'BiginfoI', '#Contract Update: Larsen &amp; Toubro bags order for Lift Irrigation project in #Odisha \\n\\nProject Cost\\xa0- 587 Crore\\n\\nCompletion Period\\xa0- 36 Months\\n\\n@OdishaWater \\n@larsentoubro \\n@BiginfoI \\n@investindia \\n\\n#LatestNews #Odisha #irrigation #thursdayvibes #Election2024 #Holi2024 #Updates https://t.co/NQcH0RJ4UN']\n",
      "[1770689047855280146, 'TheWealthelite', 'Top holdings of #Quant Flexi Cap Fund  \\n\\n#RelianceIndustries \\n#JioFinance \\n#Swanenergy \\n#HUDCO \\n#AdaniPower \\n#Larsentoubro \\n#Biocon \\n#britannia \\n#Hindalco \\n#LIC \\n#SAIL']\n"
     ]
    }
   ],
   "source": [
    "async for tweet in api.search(\"larsentoubro\",limit=5):\n",
    "        tweet_lst.append([tweet.id, tweet.user.username, tweet.rawContent]) \n",
    "        print([tweet.id, tweet.user.username, tweet.rawContent]) "
   ]
  },
  {
   "cell_type": "code",
   "execution_count": 8,
   "id": "5bbcbb60",
   "metadata": {
    "execution": {
     "iopub.execute_input": "2024-03-21T21:34:32.821093Z",
     "iopub.status.busy": "2024-03-21T21:34:32.821093Z",
     "iopub.status.idle": "2024-03-21T21:34:32.825777Z",
     "shell.execute_reply": "2024-03-21T21:34:32.825777Z"
    }
   },
   "outputs": [],
   "source": [
    "import pickle\n",
    "pickle.dump(tweet_lst,open('./l&t_tweets_scraped','wb'))"
   ]
  },
  {
   "cell_type": "code",
   "execution_count": null,
   "id": "72101c14",
   "metadata": {},
   "outputs": [],
   "source": []
  },
  {
   "cell_type": "code",
   "execution_count": null,
   "id": "0ca374b1",
   "metadata": {},
   "outputs": [],
   "source": []
  },
  {
   "cell_type": "code",
   "execution_count": null,
   "id": "3f04c497",
   "metadata": {},
   "outputs": [],
   "source": [
    "\n"
   ]
  }
 ],
 "metadata": {
  "kernelspec": {
   "display_name": "base",
   "language": "python",
   "name": "python3"
  },
  "language_info": {
   "codemirror_mode": {
    "name": "ipython",
    "version": 3
   },
   "file_extension": ".py",
   "mimetype": "text/x-python",
   "name": "python",
   "nbconvert_exporter": "python",
   "pygments_lexer": "ipython3",
   "version": "3.11.8"
  }
 },
 "nbformat": 4,
 "nbformat_minor": 5
}
